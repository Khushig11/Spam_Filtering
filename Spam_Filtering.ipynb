{
 "cells": [
  {
   "cell_type": "code",
   "execution_count": 1,
   "id": "ab5ded52",
   "metadata": {},
   "outputs": [],
   "source": [
    "import numpy as np\n",
    "import pandas as pd\n",
    "import matplotlib.pyplot as plt\n",
    "import string"
   ]
  },
  {
   "cell_type": "markdown",
   "id": "0faf6786",
   "metadata": {},
   "source": [
    "### Read Data"
   ]
  },
  {
   "cell_type": "code",
   "execution_count": 2,
   "id": "669c9d8f",
   "metadata": {},
   "outputs": [
    {
     "data": {
      "text/html": [
       "<div>\n",
       "<style scoped>\n",
       "    .dataframe tbody tr th:only-of-type {\n",
       "        vertical-align: middle;\n",
       "    }\n",
       "\n",
       "    .dataframe tbody tr th {\n",
       "        vertical-align: top;\n",
       "    }\n",
       "\n",
       "    .dataframe thead th {\n",
       "        text-align: right;\n",
       "    }\n",
       "</style>\n",
       "<table border=\"1\" class=\"dataframe\">\n",
       "  <thead>\n",
       "    <tr style=\"text-align: right;\">\n",
       "      <th></th>\n",
       "      <th>v1</th>\n",
       "      <th>v2</th>\n",
       "      <th>Unnamed: 2</th>\n",
       "      <th>Unnamed: 3</th>\n",
       "      <th>Unnamed: 4</th>\n",
       "    </tr>\n",
       "  </thead>\n",
       "  <tbody>\n",
       "    <tr>\n",
       "      <th>0</th>\n",
       "      <td>ham</td>\n",
       "      <td>Go until jurong point, crazy.. Available only ...</td>\n",
       "      <td>NaN</td>\n",
       "      <td>NaN</td>\n",
       "      <td>NaN</td>\n",
       "    </tr>\n",
       "    <tr>\n",
       "      <th>1</th>\n",
       "      <td>ham</td>\n",
       "      <td>Ok lar... Joking wif u oni...</td>\n",
       "      <td>NaN</td>\n",
       "      <td>NaN</td>\n",
       "      <td>NaN</td>\n",
       "    </tr>\n",
       "    <tr>\n",
       "      <th>2</th>\n",
       "      <td>spam</td>\n",
       "      <td>Free entry in 2 a wkly comp to win FA Cup fina...</td>\n",
       "      <td>NaN</td>\n",
       "      <td>NaN</td>\n",
       "      <td>NaN</td>\n",
       "    </tr>\n",
       "    <tr>\n",
       "      <th>3</th>\n",
       "      <td>ham</td>\n",
       "      <td>U dun say so early hor... U c already then say...</td>\n",
       "      <td>NaN</td>\n",
       "      <td>NaN</td>\n",
       "      <td>NaN</td>\n",
       "    </tr>\n",
       "    <tr>\n",
       "      <th>4</th>\n",
       "      <td>ham</td>\n",
       "      <td>Nah I don't think he goes to usf, he lives aro...</td>\n",
       "      <td>NaN</td>\n",
       "      <td>NaN</td>\n",
       "      <td>NaN</td>\n",
       "    </tr>\n",
       "  </tbody>\n",
       "</table>\n",
       "</div>"
      ],
      "text/plain": [
       "     v1                                                 v2 Unnamed: 2  \\\n",
       "0   ham  Go until jurong point, crazy.. Available only ...        NaN   \n",
       "1   ham                      Ok lar... Joking wif u oni...        NaN   \n",
       "2  spam  Free entry in 2 a wkly comp to win FA Cup fina...        NaN   \n",
       "3   ham  U dun say so early hor... U c already then say...        NaN   \n",
       "4   ham  Nah I don't think he goes to usf, he lives aro...        NaN   \n",
       "\n",
       "  Unnamed: 3 Unnamed: 4  \n",
       "0        NaN        NaN  \n",
       "1        NaN        NaN  \n",
       "2        NaN        NaN  \n",
       "3        NaN        NaN  \n",
       "4        NaN        NaN  "
      ]
     },
     "execution_count": 2,
     "metadata": {},
     "output_type": "execute_result"
    }
   ],
   "source": [
    "df = pd.read_csv('spam.csv', encoding=\"ISO-8859-1\")\n",
    "df.head()"
   ]
  },
  {
   "cell_type": "markdown",
   "id": "4237bbde",
   "metadata": {},
   "source": [
    "### Renaming the coulmns and dropping the irrelevant columns"
   ]
  },
  {
   "cell_type": "code",
   "execution_count": 3,
   "id": "fe42bf25",
   "metadata": {},
   "outputs": [],
   "source": [
    "df.rename(columns={'v1': 'spam', 'v2': 'text' },inplace =True)\n",
    "df.drop(['Unnamed: 2','Unnamed: 3','Unnamed: 4'],axis=1, inplace=True)"
   ]
  },
  {
   "cell_type": "markdown",
   "id": "765a9c62",
   "metadata": {},
   "source": [
    "### Converting 'spam' column to boolean"
   ]
  },
  {
   "cell_type": "code",
   "execution_count": 4,
   "id": "f0182b79",
   "metadata": {},
   "outputs": [],
   "source": [
    "df.spam = df.spam.apply(lambda s: True if s=='spam' else False)"
   ]
  },
  {
   "cell_type": "markdown",
   "id": "f0538820",
   "metadata": {},
   "source": [
    "### Lowercase the text and remove punctuations"
   ]
  },
  {
   "cell_type": "code",
   "execution_count": 5,
   "id": "330a181b",
   "metadata": {},
   "outputs": [],
   "source": [
    "df.text = df.text.apply(lambda t: t.lower().translate(str.maketrans('', '', string.punctuation)))"
   ]
  },
  {
   "cell_type": "code",
   "execution_count": 6,
   "id": "be4b8d23",
   "metadata": {},
   "outputs": [],
   "source": [
    "# shuffling the dataset\n",
    "df = df.sample(frac=1)"
   ]
  },
  {
   "cell_type": "code",
   "execution_count": 7,
   "id": "9d3b57eb",
   "metadata": {},
   "outputs": [
    {
     "data": {
      "text/html": [
       "<div>\n",
       "<style scoped>\n",
       "    .dataframe tbody tr th:only-of-type {\n",
       "        vertical-align: middle;\n",
       "    }\n",
       "\n",
       "    .dataframe tbody tr th {\n",
       "        vertical-align: top;\n",
       "    }\n",
       "\n",
       "    .dataframe thead th {\n",
       "        text-align: right;\n",
       "    }\n",
       "</style>\n",
       "<table border=\"1\" class=\"dataframe\">\n",
       "  <thead>\n",
       "    <tr style=\"text-align: right;\">\n",
       "      <th></th>\n",
       "      <th>spam</th>\n",
       "      <th>text</th>\n",
       "    </tr>\n",
       "  </thead>\n",
       "  <tbody>\n",
       "    <tr>\n",
       "      <th>3442</th>\n",
       "      <td>False</td>\n",
       "      <td>your board is working fine the issue of overhe...</td>\n",
       "    </tr>\n",
       "    <tr>\n",
       "      <th>5066</th>\n",
       "      <td>True</td>\n",
       "      <td>83039 62735å£450 uk break accommodationvoucher...</td>\n",
       "    </tr>\n",
       "    <tr>\n",
       "      <th>1252</th>\n",
       "      <td>False</td>\n",
       "      <td>yeah like if it goes like it did with my frien...</td>\n",
       "    </tr>\n",
       "    <tr>\n",
       "      <th>4591</th>\n",
       "      <td>False</td>\n",
       "      <td>right it wasnt you who phoned it was someone w...</td>\n",
       "    </tr>\n",
       "    <tr>\n",
       "      <th>3804</th>\n",
       "      <td>False</td>\n",
       "      <td>dude while were makin those weirdy brownies my...</td>\n",
       "    </tr>\n",
       "    <tr>\n",
       "      <th>...</th>\n",
       "      <td>...</td>\n",
       "      <td>...</td>\n",
       "    </tr>\n",
       "    <tr>\n",
       "      <th>328</th>\n",
       "      <td>False</td>\n",
       "      <td>cool text me when youre parked</td>\n",
       "    </tr>\n",
       "    <tr>\n",
       "      <th>2768</th>\n",
       "      <td>False</td>\n",
       "      <td>i am on the way to ur home</td>\n",
       "    </tr>\n",
       "    <tr>\n",
       "      <th>2189</th>\n",
       "      <td>False</td>\n",
       "      <td>yup i shd haf ard 10 pages if i add figures ìï...</td>\n",
       "    </tr>\n",
       "    <tr>\n",
       "      <th>4059</th>\n",
       "      <td>True</td>\n",
       "      <td>this weeks savamob member offers are now acces...</td>\n",
       "    </tr>\n",
       "    <tr>\n",
       "      <th>4256</th>\n",
       "      <td>True</td>\n",
       "      <td>important information 4 orange user  today is ...</td>\n",
       "    </tr>\n",
       "  </tbody>\n",
       "</table>\n",
       "<p>5572 rows × 2 columns</p>\n",
       "</div>"
      ],
      "text/plain": [
       "       spam                                               text\n",
       "3442  False  your board is working fine the issue of overhe...\n",
       "5066   True  83039 62735å£450 uk break accommodationvoucher...\n",
       "1252  False  yeah like if it goes like it did with my frien...\n",
       "4591  False  right it wasnt you who phoned it was someone w...\n",
       "3804  False  dude while were makin those weirdy brownies my...\n",
       "...     ...                                                ...\n",
       "328   False                     cool text me when youre parked\n",
       "2768  False                         i am on the way to ur home\n",
       "2189  False  yup i shd haf ard 10 pages if i add figures ìï...\n",
       "4059   True  this weeks savamob member offers are now acces...\n",
       "4256   True  important information 4 orange user  today is ...\n",
       "\n",
       "[5572 rows x 2 columns]"
      ]
     },
     "execution_count": 7,
     "metadata": {},
     "output_type": "execute_result"
    }
   ],
   "source": [
    "df"
   ]
  },
  {
   "cell_type": "code",
   "execution_count": 8,
   "id": "91b5ca5b",
   "metadata": {},
   "outputs": [
    {
     "name": "stdout",
     "output_type": "stream",
     "text": [
      "<class 'pandas.core.frame.DataFrame'>\n",
      "Int64Index: 5572 entries, 3442 to 4256\n",
      "Data columns (total 2 columns):\n",
      " #   Column  Non-Null Count  Dtype \n",
      "---  ------  --------------  ----- \n",
      " 0   spam    5572 non-null   bool  \n",
      " 1   text    5572 non-null   object\n",
      "dtypes: bool(1), object(1)\n",
      "memory usage: 92.5+ KB\n"
     ]
    }
   ],
   "source": [
    "df.info()"
   ]
  },
  {
   "cell_type": "code",
   "execution_count": 9,
   "id": "84d7ef15",
   "metadata": {},
   "outputs": [
    {
     "data": {
      "text/html": [
       "<div>\n",
       "<style scoped>\n",
       "    .dataframe tbody tr th:only-of-type {\n",
       "        vertical-align: middle;\n",
       "    }\n",
       "\n",
       "    .dataframe tbody tr th {\n",
       "        vertical-align: top;\n",
       "    }\n",
       "\n",
       "    .dataframe thead th {\n",
       "        text-align: right;\n",
       "    }\n",
       "</style>\n",
       "<table border=\"1\" class=\"dataframe\">\n",
       "  <thead>\n",
       "    <tr style=\"text-align: right;\">\n",
       "      <th></th>\n",
       "      <th>spam</th>\n",
       "      <th>text</th>\n",
       "    </tr>\n",
       "  </thead>\n",
       "  <tbody>\n",
       "    <tr>\n",
       "      <th>count</th>\n",
       "      <td>5572</td>\n",
       "      <td>5572</td>\n",
       "    </tr>\n",
       "    <tr>\n",
       "      <th>unique</th>\n",
       "      <td>2</td>\n",
       "      <td>5142</td>\n",
       "    </tr>\n",
       "    <tr>\n",
       "      <th>top</th>\n",
       "      <td>False</td>\n",
       "      <td>sorry ill call later</td>\n",
       "    </tr>\n",
       "    <tr>\n",
       "      <th>freq</th>\n",
       "      <td>4825</td>\n",
       "      <td>30</td>\n",
       "    </tr>\n",
       "  </tbody>\n",
       "</table>\n",
       "</div>"
      ],
      "text/plain": [
       "         spam                  text\n",
       "count    5572                  5572\n",
       "unique      2                  5142\n",
       "top     False  sorry ill call later\n",
       "freq     4825                    30"
      ]
     },
     "execution_count": 9,
     "metadata": {},
     "output_type": "execute_result"
    }
   ],
   "source": [
    "df.describe()"
   ]
  },
  {
   "cell_type": "code",
   "execution_count": 10,
   "id": "186dab31",
   "metadata": {},
   "outputs": [
    {
     "data": {
      "text/plain": [
       "False    4825\n",
       "True      747\n",
       "Name: spam, dtype: int64"
      ]
     },
     "execution_count": 10,
     "metadata": {},
     "output_type": "execute_result"
    }
   ],
   "source": [
    "df.spam.value_counts()"
   ]
  },
  {
   "cell_type": "markdown",
   "id": "fe2d8c41",
   "metadata": {},
   "source": [
    "### Divide the dataset into Train set and Test set"
   ]
  },
  {
   "cell_type": "code",
   "execution_count": 11,
   "id": "5d20139c",
   "metadata": {},
   "outputs": [],
   "source": [
    "# Train set\n",
    "train_df = df.iloc[:int(len(df)*0.7)]\n",
    "\n",
    "# Test set\n",
    "test_df = df.iloc[int(len(df)*0.7):]"
   ]
  },
  {
   "cell_type": "code",
   "execution_count": 12,
   "id": "3bc83131",
   "metadata": {},
   "outputs": [
    {
     "name": "stdout",
     "output_type": "stream",
     "text": [
      "0.13384615384615384\n"
     ]
    }
   ],
   "source": [
    "# Fraction of spam in the train set\n",
    "frac_spam_texts = train_df.spam.mean()\n",
    "print(frac_spam_texts)"
   ]
  },
  {
   "cell_type": "markdown",
   "id": "e014af8e",
   "metadata": {},
   "source": [
    "### Create Spam Bag of Words and Non-Spam Bag of Words"
   ]
  },
  {
   "cell_type": "code",
   "execution_count": 13,
   "id": "01221347",
   "metadata": {},
   "outputs": [],
   "source": [
    "# Get all the words from spam and non-spam datasets\n",
    "train_spam_words = ' '.join(train_df[train_df.spam == True].text).split(' ')\n",
    "train_non_spam_words = ' '.join(train_df[train_df.spam == False].text).split(' ')\n",
    "\n",
    "common_words = set(train_spam_words).intersection(set(train_non_spam_words))"
   ]
  },
  {
   "cell_type": "code",
   "execution_count": 14,
   "id": "f004232d",
   "metadata": {},
   "outputs": [],
   "source": [
    "train_spam_bow = dict()\n",
    "for w in common_words:\n",
    "  train_spam_bow[w] = train_spam_words.count(w) / len(train_spam_words)"
   ]
  },
  {
   "cell_type": "code",
   "execution_count": 15,
   "id": "0ecd059a",
   "metadata": {},
   "outputs": [],
   "source": [
    "train_non_spam_bow = dict()\n",
    "for w in common_words:\n",
    "  train_non_spam_bow[w] = train_non_spam_words.count(w) / len(train_non_spam_words)"
   ]
  },
  {
   "cell_type": "code",
   "execution_count": 16,
   "id": "ad3978ed",
   "metadata": {},
   "outputs": [],
   "source": [
    "def predict_text(t, verbose=False):\n",
    "    # remove words that are neither in spam norin non-spam\n",
    "    valid_words = [w for w in t if w in train_spam_bow]\n",
    "    \n",
    "    # probabilities of every valid word in spam and non-spam BOW\n",
    "    spam_probs = [train_spam_bow[w] for w in valid_words]\n",
    "    non_spam_probs = [train_non_spam_bow[w] for w in valid_words]\n",
    "    \n",
    "    #print probs if requested\n",
    "    if verbose:\n",
    "        data_df = pd.DataFrame()\n",
    "        data_df['word'] = valid_words\n",
    "        data_df['spam_prob'] = spam_probs\n",
    "        data_df['non_spam_prob'] = non_spam_probs\n",
    "        data_df['ratio'] = [s/n if n > 0 else np.inf for s,n in zip(spam_probs, non_spam_probs)]\n",
    "        print(data_df)\n",
    "     \n",
    "    #calculate spam score as sum of logs for all probabilities\n",
    "    spam_score = sum([np.log(p) for p in spam_probs]) + np.log(frac_spam_texts)\n",
    "    \n",
    "    #calculate non-spam score as sum of logs for all probabilities\n",
    "    non_spam_score = sum([np.log(p) for p in non_spam_probs]) + np.log(1-frac_spam_texts)\n",
    "    \n",
    "    #if verbose, report the two scores\n",
    "    if verbose:\n",
    "        print('Spam Score: %s'%spam_score)\n",
    "        print('Non-Spam Score: %s'%non_spam_score)\n",
    "   \n",
    "    #if spam score is higher, mark this as spam\n",
    "    return (spam_score >= non_spam_score)"
   ]
  },
  {
   "cell_type": "code",
   "execution_count": 17,
   "id": "4f1e6a30",
   "metadata": {},
   "outputs": [
    {
     "name": "stdout",
     "output_type": "stream",
     "text": [
      "     word  spam_prob  non_spam_prob      ratio\n",
      "0  urgent   0.003296       0.000042  79.185370\n",
      "1    call   0.019373       0.003538   5.475947\n",
      "2    this   0.004582       0.003351   1.367540\n",
      "3  number   0.001929       0.000895   2.155926\n",
      "Spam Score: -23.30627961103032\n",
      "Non-Spam Score: -28.592298783826827\n"
     ]
    },
    {
     "data": {
      "text/plain": [
       "True"
      ]
     },
     "execution_count": 17,
     "metadata": {},
     "output_type": "execute_result"
    }
   ],
   "source": [
    "predict_text('urgent call this number'.split(), verbose=True)"
   ]
  },
  {
   "cell_type": "code",
   "execution_count": 18,
   "id": "980280ff",
   "metadata": {},
   "outputs": [
    {
     "name": "stdout",
     "output_type": "stream",
     "text": [
      "      word  spam_prob  non_spam_prob     ratio\n",
      "0      hey   0.000161       0.001623  0.099044\n",
      "1       do   0.001206       0.005307  0.227218\n",
      "2      you   0.014871       0.026721  0.556542\n",
      "3     want   0.001367       0.002539  0.538245\n",
      "4       to   0.038344       0.022413  1.710778\n",
      "5       go   0.001929       0.003746  0.515027\n",
      "6        a   0.021222       0.015504  1.368796\n",
      "7    movie   0.000080       0.000312  0.257513\n",
      "8  tonight   0.000080       0.000853  0.094212\n",
      "Spam Score: -60.492829565694336\n",
      "Non-Spam Score: -50.094417151257524\n"
     ]
    },
    {
     "data": {
      "text/plain": [
       "False"
      ]
     },
     "execution_count": 18,
     "metadata": {},
     "output_type": "execute_result"
    }
   ],
   "source": [
    "predict_text('hey do you want to go a movie tonight'.split(), verbose=True)"
   ]
  },
  {
   "cell_type": "code",
   "execution_count": 19,
   "id": "42326fa5",
   "metadata": {},
   "outputs": [
    {
     "name": "stdout",
     "output_type": "stream",
     "text": [
      "        word  spam_prob  non_spam_prob      ratio\n",
      "0      offer   0.001367       0.000062  21.888639\n",
      "1        for   0.011334       0.007242   1.565060\n",
      "2  unlimited   0.000723       0.000062  11.588103\n",
      "3      money   0.000241       0.000812   0.297131\n",
      "4       call   0.019373       0.003538   5.475947\n",
      "5        now   0.010932       0.004495   2.432071\n",
      "Spam Score: -37.107836522328704\n",
      "Non-Spam Score: -42.59986140782282\n"
     ]
    },
    {
     "data": {
      "text/plain": [
       "True"
      ]
     },
     "execution_count": 19,
     "metadata": {},
     "output_type": "execute_result"
    }
   ],
   "source": [
    "predict_text('offer for unlimited money call now'.split(), verbose=True)"
   ]
  },
  {
   "cell_type": "code",
   "execution_count": 20,
   "id": "477eac0d",
   "metadata": {},
   "outputs": [
    {
     "name": "stdout",
     "output_type": "stream",
     "text": [
      "    word  spam_prob  non_spam_prob     ratio\n",
      "0    are   0.004180       0.005723  0.730402\n",
      "1    you   0.014871       0.026721  0.556542\n",
      "2     at   0.000965       0.005702  0.169169\n",
      "3  class   0.000161       0.000562  0.286126\n",
      "4    yet   0.000161       0.000749  0.214594\n",
      "Spam Score: -36.111625521133305\n",
      "Non-Spam Score: -28.776897426191336\n"
     ]
    },
    {
     "data": {
      "text/plain": [
       "False"
      ]
     },
     "execution_count": 20,
     "metadata": {},
     "output_type": "execute_result"
    }
   ],
   "source": [
    "predict_text('are you at class yet'.split(), verbose=True)"
   ]
  },
  {
   "cell_type": "code",
   "execution_count": 21,
   "id": "60f093e6",
   "metadata": {},
   "outputs": [],
   "source": [
    "predictions = test_df.text.apply(lambda t: predict_text(t.split()))"
   ]
  },
  {
   "cell_type": "code",
   "execution_count": 22,
   "id": "81cf8fbd",
   "metadata": {},
   "outputs": [
    {
     "name": "stdout",
     "output_type": "stream",
     "text": [
      "Fraction Spam Correctly Detected: 0.9288888888888889\n"
     ]
    }
   ],
   "source": [
    "frac_spam_messages_correctly_detected = np.sum((predictions == True) & (test_df.spam == True)) / np.sum(test_df.spam == True)\n",
    "print('Fraction Spam Correctly Detected: %s'%frac_spam_messages_correctly_detected)"
   ]
  },
  {
   "cell_type": "code",
   "execution_count": 23,
   "id": "27acf925",
   "metadata": {},
   "outputs": [
    {
     "name": "stdout",
     "output_type": "stream",
     "text": [
      "Fraction Valid Messages Sent to Spam: 0.028334485141672427\n"
     ]
    }
   ],
   "source": [
    "frac_valid_sent_to_spam = np.sum((predictions == True) & (test_df.spam == False)) / np.sum(test_df.spam == False)\n",
    "print('Fraction Valid Messages Sent to Spam: %s'%frac_valid_sent_to_spam)"
   ]
  }
 ],
 "metadata": {
  "kernelspec": {
   "display_name": "Python 3 (ipykernel)",
   "language": "python",
   "name": "python3"
  },
  "language_info": {
   "codemirror_mode": {
    "name": "ipython",
    "version": 3
   },
   "file_extension": ".py",
   "mimetype": "text/x-python",
   "name": "python",
   "nbconvert_exporter": "python",
   "pygments_lexer": "ipython3",
   "version": "3.10.9"
  }
 },
 "nbformat": 4,
 "nbformat_minor": 5
}
